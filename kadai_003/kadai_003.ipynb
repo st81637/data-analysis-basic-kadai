{
  "nbformat": 4,
  "nbformat_minor": 0,
  "metadata": {
    "colab": {
      "provenance": []
    },
    "kernelspec": {
      "name": "python3",
      "display_name": "Python 3"
    },
    "language_info": {
      "name": "python"
    }
  },
  "cells": [
    {
      "cell_type": "code",
      "execution_count": 1,
      "metadata": {
        "id": "Fghv0zjCb-T3"
      },
      "outputs": [],
      "source": [
        "# Step1. NumPyをインポートするコードを記述する\n",
        "import numpy as np\n"
      ]
    },
    {
      "cell_type": "code",
      "source": [
        "# Step2. AとBの行列を格納する多次元配列のコードを記述する\n",
        "A = np.array([[0, 1], [2, 3], [4, 5]])\n",
        "B = np.array([[0, 1, 2, 3], [4, 5, 6, 7]])"
      ],
      "metadata": {
        "id": "bcv9zooadfZR"
      },
      "execution_count": 5,
      "outputs": []
    },
    {
      "cell_type": "code",
      "source": [
        "# Step3. 行列の積の計算をするコードを記述する\n",
        "np.dot(A, B)"
      ],
      "metadata": {
        "colab": {
          "base_uri": "https://localhost:8080/"
        },
        "id": "p8agL85QetJ0",
        "outputId": "bf8888db-bcb6-4adb-b803-83e924abf9d5"
      },
      "execution_count": 6,
      "outputs": [
        {
          "output_type": "execute_result",
          "data": {
            "text/plain": [
              "array([[ 4,  5,  6,  7],\n",
              "       [12, 17, 22, 27],\n",
              "       [20, 29, 38, 47]])"
            ]
          },
          "metadata": {},
          "execution_count": 6
        }
      ]
    },
    {
      "cell_type": "code",
      "source": [
        "# Step4. Step3.の計算結果を表示するコードを記述する\n",
        "T = np.dot(A, B)\n",
        "print(T)"
      ],
      "metadata": {
        "colab": {
          "base_uri": "https://localhost:8080/"
        },
        "id": "kbEjhjqHf5Gy",
        "outputId": "a1872666-eb37-42d5-afe7-fa2779801a3f"
      },
      "execution_count": 7,
      "outputs": [
        {
          "output_type": "stream",
          "name": "stdout",
          "text": [
            "[[ 4  5  6  7]\n",
            " [12 17 22 27]\n",
            " [20 29 38 47]]\n"
          ]
        }
      ]
    },
    {
      "cell_type": "code",
      "source": [
        "#Step5. 行列の要素の最大値を求めるコードを記述する\n",
        "T.max()"
      ],
      "metadata": {
        "colab": {
          "base_uri": "https://localhost:8080/"
        },
        "id": "I33YjG3VgOM_",
        "outputId": "62bd6be9-1773-493b-c43b-00bff002aefc"
      },
      "execution_count": 8,
      "outputs": [
        {
          "output_type": "execute_result",
          "data": {
            "text/plain": [
              "47"
            ]
          },
          "metadata": {},
          "execution_count": 8
        }
      ]
    }
  ]
}